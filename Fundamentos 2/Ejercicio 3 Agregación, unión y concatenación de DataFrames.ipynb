{
 "cells": [
  {
   "cell_type": "markdown",
   "id": "07fb45c0",
   "metadata": {},
   "source": [
    "# Programación para el Análisis de Datos\n",
    "## Tarea - 2 Desarrollo de código para el tratamiento y manejo de información - Ejercicio 3\n",
    "**07 - **04 - 2024**** "
   ]
  },
  {
   "cell_type": "markdown",
   "id": "e9553d76",
   "metadata": {},
   "source": [
    "## Introducción\n",
    "\n",
    "A lo largo de este trabajo, hemos explorado diversas técnicas y herramientas fundamentales en el análisis de datos utilizando Pandas en Python, centrando nuestra atención en la manipulación, agrupación y unión de DataFrames. Estas operaciones son esenciales en la ciencia de datos, ya que permiten comprender, estructurar y extraer valor de los conjuntos de datos complejos, especialmente en contextos donde la información proviene de múltiples fuentes o requiere ser examinada desde distintas perspectivas. Desde operaciones básicas como la carga y filtrado de datos hasta procesos más avanzados como las agrupaciones y diferentes tipos de uniones, hemos cubierto un espectro amplio de funcionalidades que Pandas ofrece para facilitar el análisis de datos."
   ]
  },
  {
   "cell_type": "markdown",
   "id": "5916eab8",
   "metadata": {},
   "source": [
    "## Ejercicio 3: Agregación, unión y concatenación de DataFrames\n",
    "\n",
    "### 1. Parte \n",
    "\n",
    "## Revisión teórica de Combinación, unión y concatenación de DataFrames\n",
    "\n",
    "La combinación, unión y concatenación de DataFrames son técnicas cruciales en la manipulación y análisis de datos, especialmente en el contexto de la ciencia de datos y la programación en Python con bibliotecas como Pandas. Estas técnicas permiten integrar y organizar datos provenientes de diversas fuentes, lo que es esencial para el análisis de datos complejos y la toma de decisiones informadas.\n",
    "\n",
    "### Combinación de DataFrames\n",
    "\n",
    "La combinación de DataFrames se refiere al proceso de fusionar dos o más conjuntos de datos en función de valores comunes, generalmente claves, que comparten. Este proceso es similar a las operaciones de unión en las bases de datos relacionales. La combinación se realiza utilizando la función `merge` en Pandas.\n",
    "\n",
    "La operación de combinación puede ser expresada como:\n",
    "\n",
    "$$ C = A \\oplus B $$\n",
    "\n",
    "donde \\( A \\) y \\( B \\) son los DataFrames originales y \\( C \\) es el resultado de la combinación.\n",
    "\n",
    "### Unión de DataFrames\n",
    "\n",
    "La unión implica apilar o unir DataFrames a lo largo de un eje, ya sea verticalmente (apilando filas) o horizontalmente (apilando columnas). En Pandas, esto se logra principalmente a través de la función `concat`.\n",
    "\n",
    "Para la unión vertical:\n",
    "\n",
    "C = \\begin{bmatrix} A \\\\ B \\end{bmatrix}\n",
    "\n",
    "y para la unión horizontal:\n",
    "\n",
    "$$ C = [AB] $$\n",
    "\n",
    "donde \\( A \\), \\( B \\), y \\( C \\) son los DataFrames involucrados en la operación.\n",
    "\n",
    "### Concatenación de DataFrames\n",
    "\n",
    "La concatenación es un caso especial de unión, donde los DataFrames se unen a lo largo de un eje manteniendo la integridad de los índices. Se puede realizar tanto vertical como horizontalmente, similar a la unión, y se utiliza la función `concat` en Pandas.\n",
    "\n",
    "Para la concatenación, la expresión sería similar a la unión, con la diferencia de que se presta especial atención a los índices durante la operación."
   ]
  },
  {
   "cell_type": "markdown",
   "id": "f0c08153",
   "metadata": {},
   "source": [
    "### 2. Parte\n",
    "\n",
    "### Descripción del ejercicio.\n",
    "\n",
    "Para este ejercicio, cargue en la variable df el conjunto de datos quese presentan en el archivo CSV, Anexo 1 - Student Weight Status.csv, que se encuentra en la carpeta de la Unidad 2 - Tarea 2 -Programación para la Manipulación de Datos. Tenga en cuenta el tipo de separador y los encabezados de las columnas. \n",
    "\n",
    "Realice paso a paso las siguientes tareas, siguiendo lo estudiando en las referencias:"
   ]
  },
  {
   "cell_type": "code",
   "execution_count": 3,
   "id": "0a10cf2a",
   "metadata": {},
   "outputs": [],
   "source": [
    "import pandas as pd\n",
    "\n",
    "# se importa archivo csv\n",
    "df = pd.read_csv(\"D:\\\\Erika Monroy\\\\1. Documentos\\\\2. 1 UNAD Especialización\\\\1. Periodo 2024 I Febrero 16-01\\\\4. Programación para el Análisis de Datos\\\\2. Tarea\\\\Anexo 1 - Student Weight Status (1).csv\")"
   ]
  },
  {
   "cell_type": "code",
   "execution_count": 10,
   "id": "12c6b52c",
   "metadata": {},
   "outputs": [],
   "source": [
    "# separador sep\n",
    "df = pd.read_csv(\"D:\\\\Erika Monroy\\\\1. Documentos\\\\2. 1 UNAD Especialización\\\\1. Periodo 2024 I Febrero 16-01\\\\4. Programación para el Análisis de Datos\\\\2. Tarea\\\\Anexo 1 - Student Weight Status (1).csv\", sep=',')"
   ]
  },
  {
   "cell_type": "markdown",
   "id": "8dfdd2b9",
   "metadata": {},
   "source": [
    "### 3. Parte\n",
    "\n",
    "### Fusionando datos:\n",
    "\n",
    "- Cree un DataFrame p1 con los datos del 0 al 1 con las columnas 'area_name' y 'county' de df."
   ]
  },
  {
   "cell_type": "code",
   "execution_count": 11,
   "id": "99fd88ab",
   "metadata": {},
   "outputs": [
    {
     "name": "stdout",
     "output_type": "stream",
     "text": [
      "   LOCATION CODE       COUNTY    AREA NAME            REGION SCHOOL YEARS  \\\n",
      "0              4  CATTARAUGUS  CATTARAUGUS  WESTERN NEW YORK    2010-2012   \n",
      "1              4  CATTARAUGUS  CATTARAUGUS  WESTERN NEW YORK    2010-2012   \n",
      "2              4  CATTARAUGUS  CATTARAUGUS  WESTERN NEW YORK    2012-2014   \n",
      "3              4  CATTARAUGUS  CATTARAUGUS  WESTERN NEW YORK    2012-2014   \n",
      "4              4  CATTARAUGUS  CATTARAUGUS  WESTERN NEW YORK    2012-2014   \n",
      "\n",
      "   NO. OVERWEIGHT  PCT OVERWEIGHT  NO. OBESE  PCT OBESE  \\\n",
      "0           575.0            18.4      565.0       18.1   \n",
      "1           380.0            19.4      416.0       21.3   \n",
      "2           873.0            17.2      994.0       19.6   \n",
      "3           551.0            17.2      571.0       17.8   \n",
      "4           292.0            16.0      413.0       22.6   \n",
      "\n",
      "   NO. OVERWEIGHT OR OBESE  PCT OVERWEIGHT OR OBESE     GRADE LEVEL AREA TYPE  \\\n",
      "0                   1140.0                     36.5      ELEMENTARY    COUNTY   \n",
      "1                    796.0                     40.7     MIDDLE/HIGH    COUNTY   \n",
      "2                   1867.0                     36.9  DISTRICT TOTAL    COUNTY   \n",
      "3                   1122.0                     35.0      ELEMENTARY    COUNTY   \n",
      "4                    705.0                     38.6     MIDDLE/HIGH    COUNTY   \n",
      "\n",
      "  STREET ADDRESS CITY STATE  ZIP CODE  LATITUDE  LONGITUDE Location 1  \n",
      "0            NaN  NaN   NaN       NaN       NaN        NaN        NaN  \n",
      "1            NaN  NaN   NaN       NaN       NaN        NaN        NaN  \n",
      "2            NaN  NaN   NaN       NaN       NaN        NaN        NaN  \n",
      "3            NaN  NaN   NaN       NaN       NaN        NaN        NaN  \n",
      "4            NaN  NaN   NaN       NaN       NaN        NaN        NaN  \n"
     ]
    }
   ],
   "source": [
    "# Inspeccionar las primeras filas para entender la estructura\n",
    "print(df.head())"
   ]
  },
  {
   "cell_type": "markdown",
   "id": "df7e2475",
   "metadata": {},
   "source": [
    "El DataFrame df contiene varias columnas, pero nos vamos a enfocar en AREA NAME y COUNTY para crear el DataFrame p1. Para seleccionar solo las primeras 2 filas y estas columnas específicas, utilizaremos el siguiente código:"
   ]
  },
  {
   "cell_type": "code",
   "execution_count": 12,
   "id": "f7ebbbf5",
   "metadata": {},
   "outputs": [
    {
     "data": {
      "text/html": [
       "<div>\n",
       "<style scoped>\n",
       "    .dataframe tbody tr th:only-of-type {\n",
       "        vertical-align: middle;\n",
       "    }\n",
       "\n",
       "    .dataframe tbody tr th {\n",
       "        vertical-align: top;\n",
       "    }\n",
       "\n",
       "    .dataframe thead th {\n",
       "        text-align: right;\n",
       "    }\n",
       "</style>\n",
       "<table border=\"1\" class=\"dataframe\">\n",
       "  <thead>\n",
       "    <tr style=\"text-align: right;\">\n",
       "      <th></th>\n",
       "      <th>AREA NAME</th>\n",
       "      <th>COUNTY</th>\n",
       "    </tr>\n",
       "  </thead>\n",
       "  <tbody>\n",
       "    <tr>\n",
       "      <th>0</th>\n",
       "      <td>CATTARAUGUS</td>\n",
       "      <td>CATTARAUGUS</td>\n",
       "    </tr>\n",
       "    <tr>\n",
       "      <th>1</th>\n",
       "      <td>CATTARAUGUS</td>\n",
       "      <td>CATTARAUGUS</td>\n",
       "    </tr>\n",
       "  </tbody>\n",
       "</table>\n",
       "</div>"
      ],
      "text/plain": [
       "     AREA NAME       COUNTY\n",
       "0  CATTARAUGUS  CATTARAUGUS\n",
       "1  CATTARAUGUS  CATTARAUGUS"
      ]
     },
     "execution_count": 12,
     "metadata": {},
     "output_type": "execute_result"
    }
   ],
   "source": [
    "# Crear el DataFrame p1 seleccionando las filas del 0 al 1 y las columnas 'AREA NAME' y 'COUNTY'\n",
    "p1 = df.loc[0:1, ['AREA NAME', 'COUNTY']]\n",
    "p1"
   ]
  },
  {
   "cell_type": "markdown",
   "id": "7943f0b6",
   "metadata": {},
   "source": [
    "- Creen un DataFrame p2 con los datos del 2 al 4 con las columnas 'area_name' y 'county' de df."
   ]
  },
  {
   "cell_type": "code",
   "execution_count": 16,
   "id": "ffaf6320",
   "metadata": {},
   "outputs": [
    {
     "data": {
      "text/html": [
       "<div>\n",
       "<style scoped>\n",
       "    .dataframe tbody tr th:only-of-type {\n",
       "        vertical-align: middle;\n",
       "    }\n",
       "\n",
       "    .dataframe tbody tr th {\n",
       "        vertical-align: top;\n",
       "    }\n",
       "\n",
       "    .dataframe thead th {\n",
       "        text-align: right;\n",
       "    }\n",
       "</style>\n",
       "<table border=\"1\" class=\"dataframe\">\n",
       "  <thead>\n",
       "    <tr style=\"text-align: right;\">\n",
       "      <th></th>\n",
       "      <th>AREA NAME</th>\n",
       "      <th>COUNTY</th>\n",
       "    </tr>\n",
       "  </thead>\n",
       "  <tbody>\n",
       "    <tr>\n",
       "      <th>2</th>\n",
       "      <td>CATTARAUGUS</td>\n",
       "      <td>CATTARAUGUS</td>\n",
       "    </tr>\n",
       "    <tr>\n",
       "      <th>3</th>\n",
       "      <td>CATTARAUGUS</td>\n",
       "      <td>CATTARAUGUS</td>\n",
       "    </tr>\n",
       "    <tr>\n",
       "      <th>4</th>\n",
       "      <td>CATTARAUGUS</td>\n",
       "      <td>CATTARAUGUS</td>\n",
       "    </tr>\n",
       "  </tbody>\n",
       "</table>\n",
       "</div>"
      ],
      "text/plain": [
       "     AREA NAME       COUNTY\n",
       "2  CATTARAUGUS  CATTARAUGUS\n",
       "3  CATTARAUGUS  CATTARAUGUS\n",
       "4  CATTARAUGUS  CATTARAUGUS"
      ]
     },
     "execution_count": 16,
     "metadata": {},
     "output_type": "execute_result"
    }
   ],
   "source": [
    "# Creamos un nuevo DataFrame 'p2' seleccionando las filas con índices 2, 3 y 4\n",
    "# y solo las columnas 'AREA NAME' y 'COUNTY'\n",
    "p2 = df.loc[2:4, ['AREA NAME', 'COUNTY']]\n",
    "\n",
    "# Mostramos el DataFrame 'p2' para verificar su contenido\n",
    "p2"
   ]
  },
  {
   "cell_type": "markdown",
   "id": "4ef6c6b9",
   "metadata": {},
   "source": [
    "- Concatene p1 y p2 y muestre los resultados."
   ]
  },
  {
   "cell_type": "code",
   "execution_count": 20,
   "id": "a05fb421",
   "metadata": {},
   "outputs": [
    {
     "data": {
      "text/html": [
       "<div>\n",
       "<style scoped>\n",
       "    .dataframe tbody tr th:only-of-type {\n",
       "        vertical-align: middle;\n",
       "    }\n",
       "\n",
       "    .dataframe tbody tr th {\n",
       "        vertical-align: top;\n",
       "    }\n",
       "\n",
       "    .dataframe thead th {\n",
       "        text-align: right;\n",
       "    }\n",
       "</style>\n",
       "<table border=\"1\" class=\"dataframe\">\n",
       "  <thead>\n",
       "    <tr style=\"text-align: right;\">\n",
       "      <th></th>\n",
       "      <th>AREA NAME</th>\n",
       "      <th>COUNTY</th>\n",
       "    </tr>\n",
       "  </thead>\n",
       "  <tbody>\n",
       "    <tr>\n",
       "      <th>0</th>\n",
       "      <td>CATTARAUGUS</td>\n",
       "      <td>CATTARAUGUS</td>\n",
       "    </tr>\n",
       "    <tr>\n",
       "      <th>1</th>\n",
       "      <td>CATTARAUGUS</td>\n",
       "      <td>CATTARAUGUS</td>\n",
       "    </tr>\n",
       "    <tr>\n",
       "      <th>2</th>\n",
       "      <td>CATTARAUGUS</td>\n",
       "      <td>CATTARAUGUS</td>\n",
       "    </tr>\n",
       "    <tr>\n",
       "      <th>3</th>\n",
       "      <td>CATTARAUGUS</td>\n",
       "      <td>CATTARAUGUS</td>\n",
       "    </tr>\n",
       "    <tr>\n",
       "      <th>4</th>\n",
       "      <td>CATTARAUGUS</td>\n",
       "      <td>CATTARAUGUS</td>\n",
       "    </tr>\n",
       "  </tbody>\n",
       "</table>\n",
       "</div>"
      ],
      "text/plain": [
       "     AREA NAME       COUNTY\n",
       "0  CATTARAUGUS  CATTARAUGUS\n",
       "1  CATTARAUGUS  CATTARAUGUS\n",
       "2  CATTARAUGUS  CATTARAUGUS\n",
       "3  CATTARAUGUS  CATTARAUGUS\n",
       "4  CATTARAUGUS  CATTARAUGUS"
      ]
     },
     "execution_count": 20,
     "metadata": {},
     "output_type": "execute_result"
    }
   ],
   "source": [
    "# Concatenamos los DataFrames 'p1' y 'p2' verticalmente\n",
    "# El resultado se almacena en un nuevo DataFrame llamado 'p_concatenado'\n",
    "p_concatenado = pd.concat([p1, p2])\n",
    "\n",
    "# Mostramos el DataFrame resultante para verificar la concatenación\n",
    "p_concatenado"
   ]
  },
  {
   "cell_type": "markdown",
   "id": "df047526",
   "metadata": {},
   "source": [
    "- Concatene p1 y p2 identificando las asignaciones por las llaves ‘p1’ y ‘p2’ y muestre los resultados y asígnelos a la variable concatened. Comente las diferencias con el DataFrame anterior y mencione desde su punto de vista las posibles utilidades de esta herramienta."
   ]
  },
  {
   "cell_type": "code",
   "execution_count": 27,
   "id": "c47962dd",
   "metadata": {},
   "outputs": [
    {
     "data": {
      "text/html": [
       "<div>\n",
       "<style scoped>\n",
       "    .dataframe tbody tr th:only-of-type {\n",
       "        vertical-align: middle;\n",
       "    }\n",
       "\n",
       "    .dataframe tbody tr th {\n",
       "        vertical-align: top;\n",
       "    }\n",
       "\n",
       "    .dataframe thead th {\n",
       "        text-align: right;\n",
       "    }\n",
       "</style>\n",
       "<table border=\"1\" class=\"dataframe\">\n",
       "  <thead>\n",
       "    <tr style=\"text-align: right;\">\n",
       "      <th></th>\n",
       "      <th></th>\n",
       "      <th>AREA NAME</th>\n",
       "      <th>COUNTY</th>\n",
       "    </tr>\n",
       "  </thead>\n",
       "  <tbody>\n",
       "    <tr>\n",
       "      <th rowspan=\"2\" valign=\"top\">p1</th>\n",
       "      <th>0</th>\n",
       "      <td>CATTARAUGUS</td>\n",
       "      <td>CATTARAUGUS</td>\n",
       "    </tr>\n",
       "    <tr>\n",
       "      <th>1</th>\n",
       "      <td>CATTARAUGUS</td>\n",
       "      <td>CATTARAUGUS</td>\n",
       "    </tr>\n",
       "    <tr>\n",
       "      <th rowspan=\"3\" valign=\"top\">p2</th>\n",
       "      <th>2</th>\n",
       "      <td>CATTARAUGUS</td>\n",
       "      <td>CATTARAUGUS</td>\n",
       "    </tr>\n",
       "    <tr>\n",
       "      <th>3</th>\n",
       "      <td>CATTARAUGUS</td>\n",
       "      <td>CATTARAUGUS</td>\n",
       "    </tr>\n",
       "    <tr>\n",
       "      <th>4</th>\n",
       "      <td>CATTARAUGUS</td>\n",
       "      <td>CATTARAUGUS</td>\n",
       "    </tr>\n",
       "  </tbody>\n",
       "</table>\n",
       "</div>"
      ],
      "text/plain": [
       "        AREA NAME       COUNTY\n",
       "p1 0  CATTARAUGUS  CATTARAUGUS\n",
       "   1  CATTARAUGUS  CATTARAUGUS\n",
       "p2 2  CATTARAUGUS  CATTARAUGUS\n",
       "   3  CATTARAUGUS  CATTARAUGUS\n",
       "   4  CATTARAUGUS  CATTARAUGUS"
      ]
     },
     "execution_count": 27,
     "metadata": {},
     "output_type": "execute_result"
    }
   ],
   "source": [
    "# Concatenamos 'p1' y 'p2', utilizando las claves 'p1' y 'p2' para identificar cada conjunto\n",
    "concatened = pd.concat([p1, p2], keys=['p1', 'p2'])\n",
    "\n",
    "# Mostramos el DataFrame resultante\n",
    "concatened "
   ]
  },
  {
   "cell_type": "markdown",
   "id": "46ed0beb",
   "metadata": {},
   "source": [
    "#### Diferencias con el DataFrame anterior:\n",
    "\n",
    "- Este DataFrame `concatenated` tiene un índice jerárquico (multiíndice) con dos niveles. El primer nivel del índice distingue las filas que provienen de `p1` y `p2` mediante las claves 'p1' y 'p2'. El segundo nivel mantiene los índices originales de las filas en sus respectivos DataFrames.\n",
    "- En el DataFrame anterior, las filas de `p1` y `p2` se fusionaron en una sola secuencia sin una distinción explícita entre los conjuntos de datos originales.\n",
    "\n",
    "#### Posibles utilidades de esta herramienta:\n",
    "\n",
    "- **Rastreo de origen de datos**: Al trabajar con datos de múltiples fuentes, mantener una etiqueta de la fuente original puede ser crucial para el análisis posterior o la depuración.\n",
    "- **Facilita el análisis por grupo**: Con los datos etiquetados por su origen, se pueden realizar análisis específicos o comparativos entre los distintos conjuntos de datos de manera más sencilla.\n",
    "- **Organización de datos**: El índice jerárquico ayuda a mantener los datos organizados, especialmente cuando los DataFrames originales tienen su propia significancia o categorización inherente.\n",
    "\n",
    "Este enfoque de concatenación con claves ofrece una flexibilidad significativa para la manipulación y análisis posterior de los datos combinados, permitiendo un fácil acceso y operaciones en subconjuntos específicos del DataFrame concatenado."
   ]
  },
  {
   "cell_type": "markdown",
   "id": "cda5b796",
   "metadata": {},
   "source": [
    "- Desde el DataFrame concatened rescate los datos de p1."
   ]
  },
  {
   "cell_type": "code",
   "execution_count": 28,
   "id": "e4200e9e",
   "metadata": {},
   "outputs": [
    {
     "data": {
      "text/html": [
       "<div>\n",
       "<style scoped>\n",
       "    .dataframe tbody tr th:only-of-type {\n",
       "        vertical-align: middle;\n",
       "    }\n",
       "\n",
       "    .dataframe tbody tr th {\n",
       "        vertical-align: top;\n",
       "    }\n",
       "\n",
       "    .dataframe thead th {\n",
       "        text-align: right;\n",
       "    }\n",
       "</style>\n",
       "<table border=\"1\" class=\"dataframe\">\n",
       "  <thead>\n",
       "    <tr style=\"text-align: right;\">\n",
       "      <th></th>\n",
       "      <th>AREA NAME</th>\n",
       "      <th>COUNTY</th>\n",
       "    </tr>\n",
       "  </thead>\n",
       "  <tbody>\n",
       "    <tr>\n",
       "      <th>0</th>\n",
       "      <td>CATTARAUGUS</td>\n",
       "      <td>CATTARAUGUS</td>\n",
       "    </tr>\n",
       "    <tr>\n",
       "      <th>1</th>\n",
       "      <td>CATTARAUGUS</td>\n",
       "      <td>CATTARAUGUS</td>\n",
       "    </tr>\n",
       "  </tbody>\n",
       "</table>\n",
       "</div>"
      ],
      "text/plain": [
       "     AREA NAME       COUNTY\n",
       "0  CATTARAUGUS  CATTARAUGUS\n",
       "1  CATTARAUGUS  CATTARAUGUS"
      ]
     },
     "execution_count": 28,
     "metadata": {},
     "output_type": "execute_result"
    }
   ],
   "source": [
    "# Seleccionamos los datos de 'p1' del DataFrame 'concatenated'\n",
    "p1_rescatado = concatenated.loc['p1']\n",
    "\n",
    "# Mostramos los datos rescatados para verificar\n",
    "p1_rescatado"
   ]
  },
  {
   "cell_type": "markdown",
   "id": "1c375577",
   "metadata": {},
   "source": [
    "- Comente los resultados y realice las conclusiones del ejercicio.\n",
    "\n",
    "El ejercicio realizado abarca una serie de operaciones fundamentales en la manipulación de datos utilizando Pandas en Python, específicamente enfocado en la fusión, concatenación y manipulación de DataFrames. A continuación, se presentan los comentarios y conclusiones de cada parte del ejercicio:\n",
    "\n",
    "### Fusionando Datos\n",
    "\n",
    "- **Creación de DataFrames `p1` y `p2`**: Iniciamos el ejercicio extrayendo subconjuntos específicos de un DataFrame más grande `df`, creando dos nuevos DataFrames `p1` y `p2`. Esta tarea simula una situación común en el análisis de datos donde se necesitan segmentar datos para análisis o procesamientos específicos.\n",
    "  \n",
    "- **Concatenación sin Claves**: La primera operación de concatenación realizada combinó `p1` y `p2` verticalmente, sin distinción entre los conjuntos de datos originales. Esta técnica es útil cuando se desea agrupar datos similares o continuos, manteniendo la simplicidad de la estructura del DataFrame.\n",
    "\n",
    "- **Concatenación con Claves**: Posteriormente, realizamos una concatenación similar, pero esta vez asignando claves a cada conjunto de datos (`p1` y `p2`). Esto resultó en un DataFrame con un índice jerárquico que permite una distinción clara y un acceso directo a los datos de cada fuente original. Este método es particularmente útil en escenarios donde la procedencia de los datos es relevante para el análisis subsiguiente o para mantener organizadas múltiples fuentes de datos dentro de un único DataFrame.\n",
    "\n",
    "- **Rescate de Datos de `p1`**: Finalmente, demostramos cómo acceder y extraer un conjunto específico de datos (en este caso, `p1`) del DataFrame concatenado con claves. Esta capacidad es crítica en situaciones donde los DataFrames combinados necesitan ser segmentados nuevamente para análisis o procesos diferenciados.\n",
    "\n",
    "### Conclusiones\n",
    "\n",
    "- **Flexibilidad en la Manipulación de Datos**: Pandas proporciona una gran flexibilidad para manipular, combinar y segmentar DataFrames, lo que facilita el manejo de datos de diferentes fuentes y estructuras.\n",
    "\n",
    "- **Importancia del Índice Jerárquico**: La capacidad de utilizar índices jerárquicos agrega una dimensión adicional en la organización y acceso a los datos, permitiendo operaciones más complejas y estructuradas sobre conjuntos de datos combinados.\n",
    "\n",
    "- **Facilitación del Análisis de Datos**: Las técnicas mostradas permiten preparar y organizar los datos de manera que faciliten el análisis posterior, ya sea manteniendo la trazabilidad de los datos originales o combinando múltiples fuentes de datos de manera coherente.\n",
    "\n",
    "- **Aplicabilidad en Escenarios Reales**: Estas operaciones son esenciales en la ciencia de datos y el análisis de datos, donde frecuentemente se trabaja con datos provenientes de múltiples fuentes, y se requiere una combinación efectiva y una segmentación clara para el análisis y la toma de decisiones.\n",
    "\n",
    "Este ejercicio demuestra la potencia de Pandas en la manipulación de DataFrames y subraya la importancia de técnicas como la concatenación y el uso de índices jerárquicos para mantener la organización y accesibilidad de los datos dentro de proyectos de análisis de datos complejos."
   ]
  },
  {
   "cell_type": "markdown",
   "id": "85f0f1d5",
   "metadata": {},
   "source": [
    "### 4. Parte\n",
    "\n",
    "### Operaciones de agregación:\n",
    "- Encuentre el número promedio de estudiantes que son obesos en escuelas de primaria (tipo ‘ELEMENTARY’)."
   ]
  },
  {
   "cell_type": "code",
   "execution_count": 30,
   "id": "8ccd0f12",
   "metadata": {},
   "outputs": [
    {
     "name": "stdout",
     "output_type": "stream",
     "text": [
      "El número promedio de estudiantes obesos en escuelas de primaria es: 275.78676207513416\n"
     ]
    }
   ],
   "source": [
    "# Filtrado para seleccionar solo escuelas de tipo 'ELEMENTARY'\n",
    "df_elementary = df[df['GRADE LEVEL'] == 'ELEMENTARY']\n",
    "\n",
    "# Cálculo del promedio de estudiantes obesos en escuelas de primaria\n",
    "promedio_obesos = df_elementary['NO. OBESE'].mean()\n",
    "\n",
    "# Mostramos el resultado\n",
    "print(f\"El número promedio de estudiantes obesos en escuelas de primaria es: {promedio_obesos}\")"
   ]
  },
  {
   "cell_type": "markdown",
   "id": "3151e7b9",
   "metadata": {},
   "source": [
    "- Encuentre el número total de estudiantes de primaria que son obesos."
   ]
  },
  {
   "cell_type": "code",
   "execution_count": 31,
   "id": "b950334f",
   "metadata": {},
   "outputs": [
    {
     "name": "stdout",
     "output_type": "stream",
     "text": [
      "El número total de estudiantes obesos en escuelas de primaria es: 770824.0\n"
     ]
    }
   ],
   "source": [
    "# Filtrado para seleccionar solo escuelas de tipo 'ELEMENTARY'\n",
    "df_elementary = df[df['GRADE LEVEL'] == 'ELEMENTARY']\n",
    "\n",
    "# Suma para obtener el número total de estudiantes obesos en escuelas de primaria\n",
    "total_obesos = df_elementary['NO. OBESE'].sum()\n",
    "\n",
    "# Mostramos el resultado\n",
    "print(f\"El número total de estudiantes obesos en escuelas de primaria es: {total_obesos}\")"
   ]
  },
  {
   "cell_type": "markdown",
   "id": "3086e1c8",
   "metadata": {},
   "source": [
    "- Encuentre el número máximo de estudiantes obsesos que tiene una escuela."
   ]
  },
  {
   "cell_type": "code",
   "execution_count": 32,
   "id": "9eb7eba1",
   "metadata": {},
   "outputs": [
    {
     "name": "stdout",
     "output_type": "stream",
     "text": [
      "El número máximo de estudiantes obesos en una escuela es: 86016.0\n"
     ]
    }
   ],
   "source": [
    "# Obtención del número máximo de estudiantes obesos en una escuela\n",
    "max_obesos = df['NO. OBESE'].max()\n",
    "\n",
    "# Mostramos el resultado\n",
    "print(f\"El número máximo de estudiantes obesos en una escuela es: {max_obesos}\")"
   ]
  },
  {
   "cell_type": "markdown",
   "id": "b3ab7850",
   "metadata": {},
   "source": [
    "- Encuentre el número mínimo de estudiantes obsesos que tiene una escuela."
   ]
  },
  {
   "cell_type": "code",
   "execution_count": 33,
   "id": "0c3a3dba",
   "metadata": {},
   "outputs": [
    {
     "name": "stdout",
     "output_type": "stream",
     "text": [
      "El número mínimo de estudiantes obesos en una escuela es: 5.0\n"
     ]
    }
   ],
   "source": [
    "# Obtención del número mínimo de estudiantes obesos en una escuela\n",
    "min_obesos = df['NO. OBESE'].min()\n",
    "\n",
    "# Mostramos el resultado\n",
    "print(f\"El número mínimo de estudiantes obesos en una escuela es: {min_obesos}\")"
   ]
  },
  {
   "cell_type": "markdown",
   "id": "9de72680",
   "metadata": {},
   "source": [
    "- Obtenga la desviación estándar del número de estudiantes obsesos en las escuelas."
   ]
  },
  {
   "cell_type": "code",
   "execution_count": 37,
   "id": "190395ea",
   "metadata": {},
   "outputs": [
    {
     "name": "stdout",
     "output_type": "stream",
     "text": [
      "La desviación estándar del número de estudiantes obesos en las escuelas es: 2519.843935663802\n"
     ]
    }
   ],
   "source": [
    "# Cálculo de la desviación estándar del número de estudiantes obesos en las escuelas\n",
    "desviacion_std_obesos = df['NO. OBESE'].std()\n",
    "\n",
    "# Mostramos el resultado\n",
    "print(f\"La desviación estándar del número de estudiantes obesos en las escuelas es: {desviacion_std_obesos}\")"
   ]
  },
  {
   "cell_type": "markdown",
   "id": "67bcd2a9",
   "metadata": {},
   "source": [
    "- Obtenga la cantidad de escuelas de primarias en el condado (county) de DELAWARE."
   ]
  },
  {
   "cell_type": "code",
   "execution_count": 38,
   "id": "3ec428dd",
   "metadata": {},
   "outputs": [
    {
     "name": "stdout",
     "output_type": "stream",
     "text": [
      "La cantidad de escuelas de primaria en el condado de DELAWARE es: 52\n"
     ]
    }
   ],
   "source": [
    "# Filtrado para seleccionar escuelas de tipo 'ELEMENTARY' en el condado 'DELAWARE'\n",
    "escuelas_primaria_delaware = df[(df['GRADE LEVEL'] == 'ELEMENTARY') & (df['COUNTY'] == 'DELAWARE')]\n",
    "\n",
    "# Contamos el número de escuelas resultantes\n",
    "cantidad_escuelas = escuelas_primaria_delaware.shape[0]\n",
    "\n",
    "# Mostramos el resultado\n",
    "print(f\"La cantidad de escuelas de primaria en el condado de DELAWARE es: {cantidad_escuelas}\")"
   ]
  },
  {
   "cell_type": "markdown",
   "id": "4bc3cc55",
   "metadata": {},
   "source": [
    "- Comente los resultados del ejercicio y concluya con las posibilidades de uso de estas herramientas en su campo deacción."
   ]
  },
  {
   "cell_type": "markdown",
   "id": "5f9bc9ff",
   "metadata": {},
   "source": [
    "El ejercicio sobre operaciones de agregación que hemos realizado abarca varios aspectos clave del análisis de datos utilizando Pandas en Python, especialmente útil en el campo de la ciencia de datos. A continuación, se presentan los comentarios y conclusiones sobre las operaciones realizadas:\n",
    "\n",
    "### Operaciones de Agregación\n",
    "\n",
    "- **Promedio de Estudiantes Obesos en Escuelas Primarias**: Al calcular el promedio, pudimos obtener una visión general del problema de la obesidad en el nivel elemental. Esta métrica es útil para evaluar la magnitud del problema a un nivel más general y puede ser un indicador importante para el desarrollo de políticas de salud pública.\n",
    "\n",
    "- **Número Total de Estudiantes Obesos en Escuelas Primarias**: Al sumar el total, obtuvimos una cifra concreta que nos ayuda a comprender el alcance del problema de la obesidad entre los estudiantes de primaria. Esta cifra es crítica para la asignación de recursos y la planificación de intervenciones.\n",
    "\n",
    "- **Máximo y Mínimo de Estudiantes Obesos**: Estas medidas proporcionan una visión de la variabilidad y los extremos dentro del conjunto de datos. El máximo nos puede indicar casos de alta incidencia que podrían requerir atención especial, mientras que el mínimo puede indicar escuelas con prácticas potencialmente exitosas en la prevención de la obesidad.\n",
    "\n",
    "- **Desviación Estándar del Número de Estudiantes Obesos**: Esta medida nos da una idea de la variabilidad del problema de la obesidad entre diferentes escuelas, lo cual es crucial para entender la distribución del problema y planificar intervenciones específicas.\n",
    "\n",
    "- **Cantidad de Escuelas Primarias en un Condado Específico**: Esta operación específica nos ayuda a entender el panorama educativo de un área geográfica concreta, permitiéndonos dirigir los recursos de manera más efectiva.\n",
    "\n",
    "### Conclusiones y Posibilidades en Ciencia de Datos\n",
    "\n",
    "- **Información para Políticas Públicas**: Las operaciones de agregación que hemos realizado proporcionan información valiosa que puede ser utilizada para informar políticas públicas y programas de salud, educación y nutrición dirigidos a estudiantes.\n",
    "\n",
    "- **Personalización de Intervenciones**: La capacidad de analizar datos a diferentes niveles (promedio, total, variabilidad, casos específicos) permite a los científicos de datos y a los responsables políticos personalizar las intervenciones para abordar el problema de la obesidad de manera más efectiva.\n",
    "\n",
    "- **Identificación de Áreas Críticas**: El análisis de datos permite identificar áreas geográficas o instituciones específicas que requieren atención urgente, permitiendo una asignación de recursos más focalizada.\n",
    "\n",
    "- **Bases para Investigaciones Futuras**: Los resultados de estas operaciones de agregación pueden servir como punto de partida para investigaciones más profundas, incluyendo estudios longitudinales sobre la efectividad de las intervenciones y análisis cualitativos de las prácticas escolares.\n",
    "\n",
    "Las herramientas de análisis de datos como Pandas ofrecen a los científicos de datos un poderoso conjunto de métodos para extraer, procesar y analizar datos complejos. En el campo de la ciencia de datos, estas operaciones no solo facilitan la comprensión de los problemas actuales sino que también informan la toma de decisiones y la planificación estratégica para abordar problemas críticos como la obesidad infantil."
   ]
  },
  {
   "cell_type": "markdown",
   "id": "a466fd96",
   "metadata": {},
   "source": [
    "### 5. Parte\n",
    "\n",
    "### Uniones (Joins):\n",
    "\n",
    "- Defina un DataFrame de búsqueda llamado grade_lookup, que tenga las columnas ‘grade_level y ‘level’ que asigne niveles a cada uno de los grados como sigue: 1 a 'ELEMENTARY', 2 a 'MIDDLE/HIGH', 3 a 'MISC'."
   ]
  },
  {
   "cell_type": "code",
   "execution_count": 40,
   "id": "7898b4ce",
   "metadata": {},
   "outputs": [
    {
     "data": {
      "text/html": [
       "<div>\n",
       "<style scoped>\n",
       "    .dataframe tbody tr th:only-of-type {\n",
       "        vertical-align: middle;\n",
       "    }\n",
       "\n",
       "    .dataframe tbody tr th {\n",
       "        vertical-align: top;\n",
       "    }\n",
       "\n",
       "    .dataframe thead th {\n",
       "        text-align: right;\n",
       "    }\n",
       "</style>\n",
       "<table border=\"1\" class=\"dataframe\">\n",
       "  <thead>\n",
       "    <tr style=\"text-align: right;\">\n",
       "      <th></th>\n",
       "      <th>grade_level</th>\n",
       "      <th>level</th>\n",
       "    </tr>\n",
       "  </thead>\n",
       "  <tbody>\n",
       "    <tr>\n",
       "      <th>0</th>\n",
       "      <td>ELEMENTARY</td>\n",
       "      <td>1</td>\n",
       "    </tr>\n",
       "    <tr>\n",
       "      <th>1</th>\n",
       "      <td>MIDDLE/HIGH</td>\n",
       "      <td>2</td>\n",
       "    </tr>\n",
       "    <tr>\n",
       "      <th>2</th>\n",
       "      <td>MISC</td>\n",
       "      <td>3</td>\n",
       "    </tr>\n",
       "  </tbody>\n",
       "</table>\n",
       "</div>"
      ],
      "text/plain": [
       "   grade_level  level\n",
       "0   ELEMENTARY      1\n",
       "1  MIDDLE/HIGH      2\n",
       "2         MISC      3"
      ]
     },
     "execution_count": 40,
     "metadata": {},
     "output_type": "execute_result"
    }
   ],
   "source": [
    "import pandas as pd\n",
    "\n",
    "# Lista de diccionarios que define los niveles para cada grado\n",
    "grade_data = [\n",
    "    {'grade_level': 'ELEMENTARY', 'level': 1},\n",
    "    {'grade_level': 'MIDDLE/HIGH', 'level': 2},\n",
    "    {'grade_level': 'MISC', 'level': 3}\n",
    "]\n",
    "\n",
    "# Creación del DataFrame de búsqueda\n",
    "grade_lookup = pd.DataFrame(grade_data)\n",
    "\n",
    "# Mostramos el DataFrame para verificar su contenido\n",
    "grade_lookup"
   ]
  },
  {
   "cell_type": "markdown",
   "id": "013bf836",
   "metadata": {},
   "source": [
    "-  Por otro lado, tome las primeras cinco filas de la columna de datos en la columna GRADE e imprímalas (Téngalas en cuenta pues las utilizaremos para estudiar los tipos de uniones)."
   ]
  },
  {
   "cell_type": "code",
   "execution_count": 53,
   "id": "9caded51",
   "metadata": {},
   "outputs": [
    {
     "data": {
      "text/plain": [
       "0        ELEMENTARY\n",
       "1       MIDDLE/HIGH\n",
       "2    DISTRICT TOTAL\n",
       "3        ELEMENTARY\n",
       "4       MIDDLE/HIGH\n",
       "Name: GRADE LEVEL, dtype: object"
      ]
     },
     "execution_count": 53,
     "metadata": {},
     "output_type": "execute_result"
    }
   ],
   "source": [
    "# Seleccionamos las primeras cinco filas de la columna 'GRADE LEVEL'\n",
    "primeras_cinco_grados = df['GRADE LEVEL'].head(5)\n",
    "\n",
    "# Imprimimos los resultados\n",
    "primeras_cinco_grados"
   ]
  },
  {
   "cell_type": "markdown",
   "id": "8531c385",
   "metadata": {},
   "source": [
    "- Describa los inner joins y realice un ejemplo con las primeras 5 filas de la columna grade_level y grade_lookup, muestre sus resultados y explíquelos.\n",
    "\n",
    "### Descripción de Inner Joins\n",
    "\n",
    "Un *inner join* es un tipo de unión entre dos tablas (o DataFrames) que resulta en la intersección de las mismas. En otras palabras, el resultado final incluirá solo aquellos registros que tengan valores coincidentes en las columnas especificadas para la unión en ambas tablas. Los registros que no tengan coincidencias en una de las tablas serán excluidos del resultado final. Los *inner joins* son útiles cuando deseas combinar datos de diferentes fuentes basándote en valores comunes, y solo te interesan las filas que tienen correspondencia en ambas tablas.\n",
    "\n",
    "### Ejemplo de Inner Join\n",
    "\n",
    "Para el ejemplo, tomaremos las primeras cinco filas de la columna `GRADE LEVEL` de `df` y realizaremos un *inner join* con el DataFrame `grade_lookup` basándonos en la columna `grade_level` de `grade_lookup` y `GRADE LEVEL` de `df`.\n",
    "\n",
    "Primero, creamos un nuevo DataFrame `df_grades` que contenga solo las primeras cinco filas de `df`, enfocándonos en la columna `GRADE LEVEL`. Luego, realizaremos el *inner join* con `grade_lookup`."
   ]
  },
  {
   "cell_type": "code",
   "execution_count": 52,
   "id": "2197c671",
   "metadata": {},
   "outputs": [
    {
     "data": {
      "text/html": [
       "<div>\n",
       "<style scoped>\n",
       "    .dataframe tbody tr th:only-of-type {\n",
       "        vertical-align: middle;\n",
       "    }\n",
       "\n",
       "    .dataframe tbody tr th {\n",
       "        vertical-align: top;\n",
       "    }\n",
       "\n",
       "    .dataframe thead th {\n",
       "        text-align: right;\n",
       "    }\n",
       "</style>\n",
       "<table border=\"1\" class=\"dataframe\">\n",
       "  <thead>\n",
       "    <tr style=\"text-align: right;\">\n",
       "      <th></th>\n",
       "      <th>GRADE LEVEL</th>\n",
       "      <th>grade_level</th>\n",
       "      <th>level</th>\n",
       "    </tr>\n",
       "  </thead>\n",
       "  <tbody>\n",
       "    <tr>\n",
       "      <th>0</th>\n",
       "      <td>ELEMENTARY</td>\n",
       "      <td>ELEMENTARY</td>\n",
       "      <td>1</td>\n",
       "    </tr>\n",
       "    <tr>\n",
       "      <th>1</th>\n",
       "      <td>ELEMENTARY</td>\n",
       "      <td>ELEMENTARY</td>\n",
       "      <td>1</td>\n",
       "    </tr>\n",
       "    <tr>\n",
       "      <th>2</th>\n",
       "      <td>MIDDLE/HIGH</td>\n",
       "      <td>MIDDLE/HIGH</td>\n",
       "      <td>2</td>\n",
       "    </tr>\n",
       "    <tr>\n",
       "      <th>3</th>\n",
       "      <td>MIDDLE/HIGH</td>\n",
       "      <td>MIDDLE/HIGH</td>\n",
       "      <td>2</td>\n",
       "    </tr>\n",
       "  </tbody>\n",
       "</table>\n",
       "</div>"
      ],
      "text/plain": [
       "   GRADE LEVEL  grade_level  level\n",
       "0   ELEMENTARY   ELEMENTARY      1\n",
       "1   ELEMENTARY   ELEMENTARY      1\n",
       "2  MIDDLE/HIGH  MIDDLE/HIGH      2\n",
       "3  MIDDLE/HIGH  MIDDLE/HIGH      2"
      ]
     },
     "execution_count": 52,
     "metadata": {},
     "output_type": "execute_result"
    }
   ],
   "source": [
    "# Creamos un DataFrame con las primeras 5 filas de 'df', enfocado en 'GRADE LEVEL'\n",
    "df_grades = df[['GRADE LEVEL']].head(5)\n",
    "\n",
    "# Realizamos un inner join entre 'df_grades' y 'grade_lookup'\n",
    "inner_join_result = pd.merge(df_grades, grade_lookup, how='inner', left_on='GRADE LEVEL', right_on='grade_level')\n",
    "\n",
    "# Mostramos el resultado del inner join\n",
    "inner_join_result"
   ]
  },
  {
   "cell_type": "markdown",
   "id": "3de8556d",
   "metadata": {},
   "source": [
    "Este código utiliza la función `pd.merge()` para realizar el *inner join*, especificando `how='inner'` para indicar el tipo de unión. `left_on` y `right_on` se utilizan para especificar las columnas sobre las cuales se realizará la unión en los DataFrames de la izquierda (`df_grades`) y la derecha (`grade_lookup`), respectivamente.\n",
    "\n",
    "### Explicación de los Resultados\n",
    "\n",
    "El resultado del *inner join* muestra las coincidencias entre las primeras cinco filas de la columna `GRADE LEVEL` en `df` y el DataFrame `grade_lookup`. Cada fila combinada incluye el nivel educativo (`GRADE LEVEL` o `grade_level`) y el `level` numérico asignado:\n",
    "\n",
    "- Las filas 0 y 1 corresponden a 'ELEMENTARY', reflejando que las dos primeras filas de `df` son de nivel primario y se les asigna el `level` 1.\n",
    "- Las filas 2 y 3 corresponden a 'MIDDLE/HIGH', indicando que las siguientes dos filas en `df` son de nivel medio/superior y se les asigna el `level` 2.\n",
    "\n",
    "El *inner join* asegura que solo las filas con valores coincidentes en ambas tablas se incluyan en el resultado, excluyendo cualquier fila sin correspondencia directa."
   ]
  },
  {
   "cell_type": "markdown",
   "id": "f8503db7",
   "metadata": {},
   "source": [
    "- Describa los left outer joins y realice un ejemplo con las primeras 5 filas de la columna grade_level y grade_lookup, muestre sus resultados y explíquelos."
   ]
  },
  {
   "cell_type": "markdown",
   "id": "0e611d0e",
   "metadata": {},
   "source": [
    "### Descripción de Left Outer Joins\n",
    "\n",
    "Un *left outer join* (también conocido como *left join*) es un tipo de unión entre dos tablas (o DataFrames) que incluye todos los registros de la tabla izquierda y los registros coincidentes de la tabla derecha. Si no hay una coincidencia en la tabla derecha, el resultado aún incluirá las filas de la tabla izquierda, pero con valores `NaN` (Not a Number, por sus siglas en inglés) en las columnas de la tabla derecha.\n",
    "\n",
    "### Ejemplo de Left Outer Join\n",
    "\n",
    "Para el ejemplo, utilizaremos nuevamente las primeras cinco filas de la columna `GRADE LEVEL` de `df` y realizaremos un *left join* con el DataFrame `grade_lookup`. El objetivo es asignar niveles a cada uno de los grados especificados en estas filas, manteniendo todas las filas de la tabla izquierda (`df_grades`).\n",
    "\n",
    "Primero, asegurémonos de tener el DataFrame `df_grades` que contiene solo las primeras cinco filas de `df`, centrado en la columna `GRADE LEVEL`. Luego, realizaremos el *left join* con `grade_lookup`."
   ]
  },
  {
   "cell_type": "code",
   "execution_count": 51,
   "id": "84aa89c6",
   "metadata": {},
   "outputs": [
    {
     "data": {
      "text/html": [
       "<div>\n",
       "<style scoped>\n",
       "    .dataframe tbody tr th:only-of-type {\n",
       "        vertical-align: middle;\n",
       "    }\n",
       "\n",
       "    .dataframe tbody tr th {\n",
       "        vertical-align: top;\n",
       "    }\n",
       "\n",
       "    .dataframe thead th {\n",
       "        text-align: right;\n",
       "    }\n",
       "</style>\n",
       "<table border=\"1\" class=\"dataframe\">\n",
       "  <thead>\n",
       "    <tr style=\"text-align: right;\">\n",
       "      <th></th>\n",
       "      <th>GRADE LEVEL</th>\n",
       "      <th>grade_level</th>\n",
       "      <th>level</th>\n",
       "    </tr>\n",
       "  </thead>\n",
       "  <tbody>\n",
       "    <tr>\n",
       "      <th>0</th>\n",
       "      <td>ELEMENTARY</td>\n",
       "      <td>ELEMENTARY</td>\n",
       "      <td>1.0</td>\n",
       "    </tr>\n",
       "    <tr>\n",
       "      <th>1</th>\n",
       "      <td>MIDDLE/HIGH</td>\n",
       "      <td>MIDDLE/HIGH</td>\n",
       "      <td>2.0</td>\n",
       "    </tr>\n",
       "    <tr>\n",
       "      <th>2</th>\n",
       "      <td>DISTRICT TOTAL</td>\n",
       "      <td>NaN</td>\n",
       "      <td>NaN</td>\n",
       "    </tr>\n",
       "    <tr>\n",
       "      <th>3</th>\n",
       "      <td>ELEMENTARY</td>\n",
       "      <td>ELEMENTARY</td>\n",
       "      <td>1.0</td>\n",
       "    </tr>\n",
       "    <tr>\n",
       "      <th>4</th>\n",
       "      <td>MIDDLE/HIGH</td>\n",
       "      <td>MIDDLE/HIGH</td>\n",
       "      <td>2.0</td>\n",
       "    </tr>\n",
       "  </tbody>\n",
       "</table>\n",
       "</div>"
      ],
      "text/plain": [
       "      GRADE LEVEL  grade_level  level\n",
       "0      ELEMENTARY   ELEMENTARY    1.0\n",
       "1     MIDDLE/HIGH  MIDDLE/HIGH    2.0\n",
       "2  DISTRICT TOTAL          NaN    NaN\n",
       "3      ELEMENTARY   ELEMENTARY    1.0\n",
       "4     MIDDLE/HIGH  MIDDLE/HIGH    2.0"
      ]
     },
     "execution_count": 51,
     "metadata": {},
     "output_type": "execute_result"
    }
   ],
   "source": [
    "# Asumiendo que df_grades ya está definido como las primeras 5 filas de 'df' en 'GRADE LEVEL'\n",
    "# Realizamos un left join entre 'df_grades' y 'grade_lookup'\n",
    "left_join_result = pd.merge(df_grades, grade_lookup, how='left', left_on='GRADE LEVEL', right_on='grade_level')\n",
    "\n",
    "# Mostramos el resultado del left join\n",
    "left_join_result"
   ]
  },
  {
   "cell_type": "markdown",
   "id": "68c8be85",
   "metadata": {},
   "source": [
    "Este código utiliza `pd.merge()` para realizar el *left join*, especificando `how='left'` para indicar el tipo de unión. Las columnas sobre las cuales se realiza la unión son `GRADE LEVEL` de `df_grades` (tabla izquierda) y `grade_level` de `grade_lookup` (tabla derecha).\n",
    "\n",
    "### Explicación de los Resultados\n",
    "\n",
    "El resultado incluirá todas las filas de `df_grades` (las primeras cinco filas de `df`) con los valores correspondientes de `grade_level` y `level` de `grade_lookup` donde haya coincidencias. En los casos donde no haya una correspondencia en `grade_lookup`, las columnas de `grade_level` y `level` tendrán valores `NaN`.\n",
    "\n",
    "El resultado del *left join* muestra:\n",
    "\n",
    "- **Filas 0 y 3**: Entradas 'ELEMENTARY' encontraron coincidencias en `grade_lookup`, asignándoseles el nivel 1.\n",
    "- **Filas 1 y 4**: Entradas 'MIDDLE/HIGH' también coincidieron, recibiendo el nivel 2.\n",
    "- **Fila 2**: 'DISTRICT TOTAL' no tuvo coincidencia, resultando en valores `NaN` para `grade_level` y `level`.\n",
    "\n",
    "Este resultado ilustra cómo un *left join* mantiene todas las filas de la tabla izquierda, completando con datos de la tabla derecha cuando hay coincidencias y con `NaN` cuando no las hay."
   ]
  },
  {
   "cell_type": "markdown",
   "id": "35e8814a",
   "metadata": {},
   "source": [
    "- Describa los full outer joins y realice un ejemplo con las primeras 5 filas de la columna grade_level y grade_lookup, muestre sus resultados y explíquelos."
   ]
  },
  {
   "cell_type": "markdown",
   "id": "28428481",
   "metadata": {},
   "source": [
    "### Descripción de Full Outer Joins\n",
    "\n",
    "Un *full outer join* combina todas las filas de ambas tablas (o DataFrames), independientemente de si hay coincidencias entre ellas. Cuando hay coincidencias en las columnas especificadas para la unión, el *full outer join* combina las filas correspondientes. Para las filas sin coincidencias en una de las tablas, el resultado incluirá estas filas con valores `NaN` en las columnas de la tabla donde no hubo coincidencia.\n",
    "\n",
    "### Ejemplo de Full Outer Join\n",
    "\n",
    "Para el ejemplo, realizaremos un *full outer join* entre las primeras cinco filas de la columna `GRADE LEVEL` de `df` y el DataFrame `grade_lookup`. Esto nos permitirá observar cómo se manejan tanto las coincidencias como las no coincidencias entre ambos DataFrames.\n",
    "\n",
    "Primero, nos aseguramos de tener el DataFrame `df_grades` que contiene solo las primeras cinco filas de `df`, enfocadas en la columna `GRADE LEVEL`. Luego, realizaremos el *full outer join* con `grade_lookup`."
   ]
  },
  {
   "cell_type": "code",
   "execution_count": 50,
   "id": "6614a1c1",
   "metadata": {},
   "outputs": [
    {
     "data": {
      "text/html": [
       "<div>\n",
       "<style scoped>\n",
       "    .dataframe tbody tr th:only-of-type {\n",
       "        vertical-align: middle;\n",
       "    }\n",
       "\n",
       "    .dataframe tbody tr th {\n",
       "        vertical-align: top;\n",
       "    }\n",
       "\n",
       "    .dataframe thead th {\n",
       "        text-align: right;\n",
       "    }\n",
       "</style>\n",
       "<table border=\"1\" class=\"dataframe\">\n",
       "  <thead>\n",
       "    <tr style=\"text-align: right;\">\n",
       "      <th></th>\n",
       "      <th>GRADE LEVEL</th>\n",
       "      <th>grade_level</th>\n",
       "      <th>level</th>\n",
       "    </tr>\n",
       "  </thead>\n",
       "  <tbody>\n",
       "    <tr>\n",
       "      <th>0</th>\n",
       "      <td>ELEMENTARY</td>\n",
       "      <td>ELEMENTARY</td>\n",
       "      <td>1.0</td>\n",
       "    </tr>\n",
       "    <tr>\n",
       "      <th>1</th>\n",
       "      <td>ELEMENTARY</td>\n",
       "      <td>ELEMENTARY</td>\n",
       "      <td>1.0</td>\n",
       "    </tr>\n",
       "    <tr>\n",
       "      <th>2</th>\n",
       "      <td>MIDDLE/HIGH</td>\n",
       "      <td>MIDDLE/HIGH</td>\n",
       "      <td>2.0</td>\n",
       "    </tr>\n",
       "    <tr>\n",
       "      <th>3</th>\n",
       "      <td>MIDDLE/HIGH</td>\n",
       "      <td>MIDDLE/HIGH</td>\n",
       "      <td>2.0</td>\n",
       "    </tr>\n",
       "    <tr>\n",
       "      <th>4</th>\n",
       "      <td>DISTRICT TOTAL</td>\n",
       "      <td>NaN</td>\n",
       "      <td>NaN</td>\n",
       "    </tr>\n",
       "    <tr>\n",
       "      <th>5</th>\n",
       "      <td>NaN</td>\n",
       "      <td>MISC</td>\n",
       "      <td>3.0</td>\n",
       "    </tr>\n",
       "  </tbody>\n",
       "</table>\n",
       "</div>"
      ],
      "text/plain": [
       "      GRADE LEVEL  grade_level  level\n",
       "0      ELEMENTARY   ELEMENTARY    1.0\n",
       "1      ELEMENTARY   ELEMENTARY    1.0\n",
       "2     MIDDLE/HIGH  MIDDLE/HIGH    2.0\n",
       "3     MIDDLE/HIGH  MIDDLE/HIGH    2.0\n",
       "4  DISTRICT TOTAL          NaN    NaN\n",
       "5             NaN         MISC    3.0"
      ]
     },
     "execution_count": 50,
     "metadata": {},
     "output_type": "execute_result"
    }
   ],
   "source": [
    "# Asumiendo que df_grades ya está definido como las primeras 5 filas de 'df' en 'GRADE LEVEL'\n",
    "# Realizamos un full outer join entre 'df_grades' y 'grade_lookup'\n",
    "full_outer_join_result = pd.merge(df_grades, grade_lookup, how='outer', left_on='GRADE LEVEL', right_on='grade_level')\n",
    "\n",
    "# Mostramos el resultado del full outer join\n",
    "full_outer_join_result"
   ]
  },
  {
   "cell_type": "markdown",
   "id": "8acafa6c",
   "metadata": {},
   "source": [
    "Este código usa `pd.merge()` para realizar el *full outer join*, especificando `how='outer'`. Las columnas para realizar la unión son `GRADE LEVEL` de `df_grades` y `grade_level` de `grade_lookup`.\n",
    "\n",
    "### Explicación de los Resultados\n",
    "\n",
    "El resultado del *full outer join* muestra:\n",
    "\n",
    "- **Filas 0 a 3**: Coincidencias entre `df` y `grade_lookup` para 'ELEMENTARY' y 'MIDDLE/HIGH', asignando los niveles 1 y 2, respectivamente.\n",
    "- **Fila 4**: 'DISTRICT TOTAL' de `df` sin coincidencia en `grade_lookup`, resultando en valores `NaN` para `grade_level` y `level`.\n",
    "- **Fila 5**: Entrada 'MISC' de `grade_lookup` sin coincidencia en las primeras cinco filas de `df`, con `NaN` en `GRADE LEVEL`.\n",
    "\n",
    "Este resultado demuestra que un *full outer join* incluye todas las filas de ambas tablas, llenando con `NaN` donde no hay coincidencias."
   ]
  },
  {
   "cell_type": "markdown",
   "id": "c8c9f80b",
   "metadata": {},
   "source": [
    "### 6. Parte\n",
    "\n",
    "### Agrupaciones:\n",
    "\n",
    "- Encontrar la suma del número de estudiantes obesos en cada uno de los grados mediante el uso de la función groupby de pandas. Muestre sus resultados y explíquelo."
   ]
  },
  {
   "cell_type": "code",
   "execution_count": 56,
   "id": "f23d9a49",
   "metadata": {},
   "outputs": [
    {
     "name": "stdout",
     "output_type": "stream",
     "text": [
      "GRADE LEVEL\n",
      "DISTRICT TOTAL    1359576.0\n",
      "ELEMENTARY         770824.0\n",
      "MIDDLE/HIGH        577812.0\n",
      "Name: NO. OBESE, dtype: float64\n"
     ]
    }
   ],
   "source": [
    "# Agrupamos el DataFrame 'df' por la columna 'GRADE LEVEL' y sumamos los valores de 'NO. OBESE'\n",
    "suma_obesos_por_grado = df.groupby('GRADE LEVEL')['NO. OBESE'].sum()\n",
    "\n",
    "# Mostramos el resultado\n",
    "print(suma_obesos_por_grado)"
   ]
  },
  {
   "cell_type": "markdown",
   "id": "d3ef3283",
   "metadata": {},
   "source": [
    "Los resultados de la agrupación y suma del número de estudiantes obesos por cada nivel de grado (`GRADE LEVEL`) son los siguientes:\n",
    "\n",
    "- **DISTRICT TOTAL**: 1,359,576 estudiantes obesos. Este número representa la suma total de estudiantes obesos en todos los registros que han sido clasificados bajo el nivel de 'DISTRICT TOTAL'. Este nivel podría incluir datos agregados de varios grados o escuelas a nivel de distrito.\n",
    "\n",
    "- **ELEMENTARY**: 770,824 estudiantes obesos. Este valor indica el número total de estudiantes obesos en el nivel de primaria (Elementary). Refleja la suma de estudiantes obesos en todas las escuelas o registros que han sido específicamente clasificados como de nivel primario.\n",
    "\n",
    "- **MIDDLE/HIGH**: 577,812 estudiantes obesos. Este número es la suma de estudiantes obesos en los niveles de educación media y secundaria (Middle/High). Muestra el total combinado de estudiantes obesos en todos los registros clasificados dentro de estos niveles.\n",
    "\n",
    "### Explicación:\n",
    "\n",
    "La función `groupby` de Pandas ha agrupado los datos según el nivel de grado y ha calculado la suma de estudiantes obesos para cada grupo. Estos resultados nos proporcionan una visión clara de la distribución de la obesidad entre los diferentes niveles educativos. Los datos pueden ser especialmente útiles para identificar en qué nivel educativo se concentra mayormente el problema de la obesidad, lo que puede informar las decisiones de política educativa y de salud pública. Por ejemplo, el alto número en el nivel 'ELEMENTARY' sugiere la importancia de intervenciones tempranas en la nutrición y actividad física para los estudiantes más jóvenes."
   ]
  },
  {
   "cell_type": "markdown",
   "id": "08d7f259",
   "metadata": {},
   "source": [
    "- Muestre diferentes tipos de agregación por suma, media y desviación estándar de los estudiantes obsesos en cada uno de los grados."
   ]
  },
  {
   "cell_type": "code",
   "execution_count": 58,
   "id": "182cf4a9",
   "metadata": {},
   "outputs": [
    {
     "data": {
      "text/html": [
       "<div>\n",
       "<style scoped>\n",
       "    .dataframe tbody tr th:only-of-type {\n",
       "        vertical-align: middle;\n",
       "    }\n",
       "\n",
       "    .dataframe tbody tr th {\n",
       "        vertical-align: top;\n",
       "    }\n",
       "\n",
       "    .dataframe thead th {\n",
       "        text-align: right;\n",
       "    }\n",
       "</style>\n",
       "<table border=\"1\" class=\"dataframe\">\n",
       "  <thead>\n",
       "    <tr style=\"text-align: right;\">\n",
       "      <th></th>\n",
       "      <th>sum</th>\n",
       "      <th>mean</th>\n",
       "      <th>std</th>\n",
       "    </tr>\n",
       "    <tr>\n",
       "      <th>GRADE LEVEL</th>\n",
       "      <th></th>\n",
       "      <th></th>\n",
       "      <th></th>\n",
       "    </tr>\n",
       "  </thead>\n",
       "  <tbody>\n",
       "    <tr>\n",
       "      <th>DISTRICT TOTAL</th>\n",
       "      <td>1359576.0</td>\n",
       "      <td>473.719861</td>\n",
       "      <td>3502.973168</td>\n",
       "    </tr>\n",
       "    <tr>\n",
       "      <th>ELEMENTARY</th>\n",
       "      <td>770824.0</td>\n",
       "      <td>275.786762</td>\n",
       "      <td>2021.124815</td>\n",
       "    </tr>\n",
       "    <tr>\n",
       "      <th>MIDDLE/HIGH</th>\n",
       "      <td>577812.0</td>\n",
       "      <td>215.039821</td>\n",
       "      <td>1532.055998</td>\n",
       "    </tr>\n",
       "  </tbody>\n",
       "</table>\n",
       "</div>"
      ],
      "text/plain": [
       "                      sum        mean          std\n",
       "GRADE LEVEL                                       \n",
       "DISTRICT TOTAL  1359576.0  473.719861  3502.973168\n",
       "ELEMENTARY       770824.0  275.786762  2021.124815\n",
       "MIDDLE/HIGH      577812.0  215.039821  1532.055998"
      ]
     },
     "execution_count": 58,
     "metadata": {},
     "output_type": "execute_result"
    }
   ],
   "source": [
    "# Agrupamos por 'GRADE LEVEL' y aplicamos diferentes funciones de agregación a 'NO. OBESE'\n",
    "agregaciones = df.groupby('GRADE LEVEL')['NO. OBESE'].agg(['sum', 'mean', 'std'])\n",
    "\n",
    "# Mostramos el resultado\n",
    "agregaciones"
   ]
  },
  {
   "cell_type": "markdown",
   "id": "b78cc77d",
   "metadata": {},
   "source": [
    "### Explicación de los resultados:\n",
    "\n",
    "Los resultados obtenidos de aplicar diferentes funciones de agregación (suma, media y desviación estándar) al número de estudiantes obesos (`NO. OBESE`) agrupados por nivel de grado (`GRADE LEVEL`) se pueden interpretar de la siguiente manera:\n",
    "\n",
    "### Para \"DISTRICT TOTAL\"\n",
    "- **Suma**: 1,359,576 estudiantes obesos. Esta es la cantidad total de estudiantes obesos en todos los registros clasificados como 'DISTRICT TOTAL', lo que podría incluir datos agregados de varios grados o escuelas a nivel de distrito.\n",
    "- **Media**: 473.72 estudiantes obesos. En promedio, cada registro en este nivel tiene alrededor de 474 estudiantes obesos. Esto indica el tamaño medio del problema de la obesidad en el nivel de distrito.\n",
    "- **Desviación Estándar**: 3,502.97. Hay una variabilidad significativa en el número de estudiantes obesos entre los diferentes registros a nivel de distrito. Una desviación estándar más alta sugiere una mayor dispersión de los datos alrededor de la media.\n",
    "\n",
    "### Para \"ELEMENTARY\"\n",
    "- **Suma**: 770,824 estudiantes obesos. Este es el total de estudiantes obesos en el nivel primario. Indica la magnitud del problema de la obesidad entre los estudiantes más jóvenes.\n",
    "- **Media**: 275.79 estudiantes obesos. En promedio, hay aproximadamente 276 estudiantes obesos por registro en escuelas primarias. \n",
    "- **Desviación Estándar**: 2,021.12. Similar al nivel de distrito, hay una variabilidad considerable en el número de estudiantes obesos entre las diferentes escuelas primarias.\n",
    "\n",
    "### Para \"MIDDLE/HIGH\"\n",
    "- **Suma**: 577,812 estudiantes obesos. Este número representa el total de estudiantes obesos en los niveles de educación media y secundaria.\n",
    "- **Media**: 215.04 estudiantes obesos. En promedio, cada registro en este nivel tiene alrededor de 215 estudiantes obesos, lo cual es menor que en el nivel primario.\n",
    "- **Desviación Estándar**: 1,532.06. Aunque todavía hay variabilidad, la dispersión de los datos alrededor de la media es menor en comparación con los niveles de 'DISTRICT TOTAL' y 'ELEMENTARY'.\n",
    "\n",
    "### Conclusión\n",
    "Estos resultados proporcionan una visión detallada de la obesidad estudiantil en diferentes niveles educativos. La suma total refleja la magnitud del problema en cada nivel, la media indica el tamaño promedio del problema de obesidad por registro o escuela, y la desviación estándar revela la variabilidad del número de estudiantes obesos dentro de cada nivel. La menor media y desviación estándar en el nivel 'MIDDLE/HIGH' podrían indicar intervenciones más efectivas o diferencias en las poblaciones estudiantiles en comparación con el nivel primario."
   ]
  },
  {
   "cell_type": "markdown",
   "id": "73bd3810",
   "metadata": {},
   "source": [
    "- Comente los resultados y concluya con las posibilidades de uso de estas herramientas en su campo de acción.\n",
    "\n",
    "Desde el ejercicio de agrupaciones, hemos obtenido valiosos insights sobre la distribución de estudiantes obesos en diferentes niveles educativos. Las herramientas de agrupación y agregación en Pandas nos permitieron sumarizar datos complejos para revelar patrones importantes, como la magnitud del problema de obesidad en distintos niveles educativos y la variabilidad dentro de estos grupos.\n",
    "\n",
    "### Conclusiones:\n",
    "\n",
    "- La **agrupación** nos ayuda a entender mejor cómo se distribuye la obesidad entre los estudiantes de diferentes niveles educativos, destacando áreas de mayor preocupación.\n",
    "- Las **funciones de agregación** (suma, media, desviación estándar) proporcionan una comprensión clara del tamaño y la variabilidad del problema de obesidad dentro de cada grupo.\n",
    "\n",
    "### Posibilidades de Uso en Ciencia de Datos:\n",
    "\n",
    "- **Identificación de Patrones**: Estas herramientas permiten identificar patrones y áreas críticas que requieren atención, lo cual es fundamental para dirigir intervenciones y recursos de manera efectiva.\n",
    "- **Informar Políticas Públicas**: Los insights pueden informar políticas públicas y estrategias de intervención en salud y educación.\n",
    "- **Desarrollo de Modelos Predictivos**: La comprensión de la distribución y variabilidad de la obesidad puede ser utilizada para desarrollar modelos predictivos que identifiquen factores de riesgo y permitan intervenciones tempranas.\n",
    "\n",
    "En resumen, la ciencia de datos ofrece herramientas poderosas como la agrupación y agregación para transformar datos en conocimiento útil, lo cual es esencial en campos como la salud pública, la educación y más allá, permitiendo tomar decisiones basadas en datos y mejorar los resultados en diversas áreas."
   ]
  },
  {
   "cell_type": "markdown",
   "id": "4545fdaa",
   "metadata": {},
   "source": [
    "## Conclusiones del trabajo\n",
    "\n",
    "1. **Valor de la Visualización y Agrupación de Datos**: La agrupación de datos según características específicas, como el nivel educativo, y la aplicación de funciones de agregación como la suma, media y desviación estándar, no solo simplifican la interpretación de grandes volúmenes de datos, sino que también resaltan tendencias y discrepancias ocultas. Esta capacidad de desglosar y analizar los datos a nivel granular es fundamental para identificar áreas clave de intervención y oportunidades de mejora.\n",
    "\n",
    "2. **Impacto de las Operaciones de Unión en la Calidad del Análisis**: Las diferentes operaciones de unión (inner, left outer, full outer) demostraron ser herramientas críticas para combinar y comparar datos de diversas fuentes, lo que enriquece el análisis al proporcionar un contexto más amplio. Comprender las diferencias entre estos métodos y saber cuándo aplicar cada uno permite un análisis más preciso y adaptado a las necesidades específicas de cada conjunto de datos.\n",
    "\n",
    "3. **Aplicabilidad en Múltiples Campos**: Aunque nuestro enfoque ha estado en el análisis de datos educativos relacionados con la obesidad estudiantil, las técnicas y herramientas exploradas son aplicables en una amplia gama de campos dentro de la ciencia de datos. Desde la salud pública y la educación hasta los negocios y la economía, la capacidad de manipular, analizar y visualizar datos de manera efectiva es una habilidad invaluable que potencia la toma de decisiones basada en evidencias."
   ]
  },
  {
   "cell_type": "markdown",
   "id": "8aa0fb9b",
   "metadata": {},
   "source": [
    "## Referencias Bibliográficas\n",
    "\n",
    "**1** Samir Madhavan. (2015). Mastering Python for Data Science: Explore the World of Data Science Through Python and Learn How\n",
    "to Make Sense of Data. Packt Publishing. (pp. 19-25).\n",
    "\n",
    "**2.**  McKinney, W. (2017). *Python for Data Analysis: Data Wrangling with Pandas, NumPy, and IPython* (2ª ed.). O'Reilly Media. Este libro proporciona una introducción completa a la manipulación de datos utilizando Pandas, incluyendo combinación, unión y concatenación de DataFrames.\n",
    "\n",
    "**3.** VanderPlas, J. (2016). *Python Data Science Handbook: Essential Tools for Working with Data*. O'Reilly Media. Este manual abarca las herramientas esenciales para el análisis de datos en Python, con capítulos dedicados a la manipulación de DataFrames con Pandas."
   ]
  }
 ],
 "metadata": {
  "kernelspec": {
   "display_name": "Python 3 (ipykernel)",
   "language": "python",
   "name": "python3"
  },
  "language_info": {
   "codemirror_mode": {
    "name": "ipython",
    "version": 3
   },
   "file_extension": ".py",
   "mimetype": "text/x-python",
   "name": "python",
   "nbconvert_exporter": "python",
   "pygments_lexer": "ipython3",
   "version": "3.11.5"
  }
 },
 "nbformat": 4,
 "nbformat_minor": 5
}
